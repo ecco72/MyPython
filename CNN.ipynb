{
  "cells": [
    {
      "cell_type": "markdown",
      "metadata": {
        "id": "17fNsmJlCN_Q"
      },
      "source": [
        "# 建立訓練照片"
      ]
    },
    {
      "cell_type": "code",
      "execution_count": null,
      "metadata": {
        "id": "QB6EvIW42VKq"
      },
      "outputs": [],
      "source": [
        "import numpy as np\n",
        "import cv2\n",
        "import matplotlib.pyplot as plt\n",
        "import tensorflow as tf\n",
        "import os\n",
        "from tensorflow.keras.models import Sequential\n",
        "from tensorflow.keras.layers import Dense, Flatten, Dropout, Conv2D, MaxPooling2D, Activation\n",
        "from tensorflow.python.keras.utils import np_utils"
      ]
    },
    {
      "cell_type": "code",
      "execution_count": null,
      "metadata": {
        "id": "UgRongM02tv_",
        "colab": {
          "base_uri": "https://localhost:8080/"
        },
        "outputId": "106f4cc7-4a88-4871-ffe1-83df1fb8567d"
      },
      "outputs": [
        {
          "output_type": "stream",
          "name": "stdout",
          "text": [
            "Drive already mounted at /content/drive; to attempt to forcibly remount, call drive.mount(\"/content/drive\", force_remount=True).\n"
          ]
        }
      ],
      "source": [
        "from google.colab import drive\n",
        "drive.mount('/content/drive')"
      ]
    },
    {
      "cell_type": "code",
      "execution_count": null,
      "metadata": {
        "id": "mOz6isqNZWgK",
        "colab": {
          "base_uri": "https://localhost:8080/"
        },
        "outputId": "84fdc89d-2f44-43cd-8b5a-c9b4280673c5"
      },
      "outputs": [
        {
          "output_type": "execute_result",
          "data": {
            "text/plain": [
              "['榴槤',\n",
              " '山竹',\n",
              " '奇異果',\n",
              " '柚子',\n",
              " '楊梅',\n",
              " '哈密瓜',\n",
              " '小黃瓜',\n",
              " '梨',\n",
              " '椰子',\n",
              " '檸檬',\n",
              " '砂糖橘',\n",
              " '紅番茄',\n",
              " '白葡萄',\n",
              " '紅蘋果',\n",
              " '石榴',\n",
              " '火龍果',\n",
              " '櫻桃',\n",
              " '聖女番茄',\n",
              " '紅葡萄',\n",
              " '胡蘿蔔',\n",
              " '龍眼',\n",
              " '芒果',\n",
              " '草莓',\n",
              " '青蘋果',\n",
              " '荔枝',\n",
              " '鳳梨',\n",
              " '香蕉',\n",
              " '西瓜',\n",
              " '苦瓜']"
            ]
          },
          "metadata": {},
          "execution_count": 3
        }
      ],
      "source": [
        "path = '/content/drive/MyDrive/Code/Machine Learning/LCC_photo/水果30分類/train'\n",
        "files = os.listdir(path)\n",
        "directories = list()\n",
        "for dir in files:\n",
        "    if os.path.isdir(os.path.join(path,dir)):\n",
        "        directories.append(dir)\n",
        "directories"
      ]
    },
    {
      "cell_type": "code",
      "execution_count": null,
      "metadata": {
        "id": "0d1moTWIZ4Rv"
      },
      "outputs": [],
      "source": [
        "def resizeFile(dir_path, img_files):\n",
        "    size = (250,250)\n",
        "    for item in img_files:\n",
        "        item = os.path.join(dir_path,item)\n",
        "\n",
        "        images = cv2.imread(item)\n",
        "        h,w = images.shape[:2]  #第三個值是通道 例如 1024*720彩色圖就是(720,1024,3)\n",
        "        if h > size[0] or w > size[1]:\n",
        "            ratio = max(h/size[0], w/size[1])\n",
        "            images = cv2.resize(images,(int(w/ratio), int(h/ratio)))\n",
        "        h,w = images.shape[0:2]\n",
        "        pad_h = size[0] - h\n",
        "        pad_w = size[1] - w\n",
        "        top, bottom = pad_h // 2, pad_h - (pad_h//2)\n",
        "        left, right = pad_w // 2, pad_w - (pad_w//2)\n",
        "        images = cv2.copyMakeBorder(images, top, bottom, left, right, cv2.BORDER_CONSTANT, value=[0,0,0]) #適用於圖片縮小時 填充黑邊\n",
        "        name = item.split('/')[-1]\n",
        "\n",
        "        cv2.imwrite(f\"{dir_path}/resize/{name}\", images)"
      ]
    },
    {
      "cell_type": "code",
      "execution_count": null,
      "metadata": {
        "id": "M35pufhRa_4V"
      },
      "outputs": [],
      "source": [
        "x_train = list()\n",
        "y_train = list()\n",
        "def create_data(path, category):\n",
        "    for p in os.listdir(path):\n",
        "        img_array = cv2.imread(os.path.join(path,p),1)  #0轉灰階\n",
        "        x_train.append(img_array)\n",
        "        y_train.append(category)"
      ]
    },
    {
      "cell_type": "code",
      "execution_count": null,
      "metadata": {
        "id": "mmYzMvWri23o"
      },
      "outputs": [],
      "source": [
        "category = 0\n",
        "for directory in directories:\n",
        "    dir_path = os.path.join(path, directory)  #.../train/哈密瓜 .../train/水蜜桃\n",
        "    dir_file = os.listdir(dir_path) #目錄內所有檔案\n",
        "    img_files = list()\n",
        "    for file in dir_file:\n",
        "        if file.endswith('.jpg') or file.endswith('.png') or file.endswith('.jpeg'):\n",
        "            img_files.append(file)\n",
        "    resizeDir = os.path.join(dir_path, 'resize')\n",
        "    if not os.path.exists(resizeDir):\n",
        "        os.makedirs(resizeDir)\n",
        "        resizeFile(dir_path, img_files)\n",
        "    create_data(resizeDir, category)\n",
        "    category += 1"
      ]
    },
    {
      "cell_type": "code",
      "execution_count": null,
      "metadata": {
        "id": "SxL5CRyboKc1"
      },
      "outputs": [],
      "source": [
        "x_train = np.array(x_train).reshape(-1,250,250,3)\n",
        "y_train = np.array(y_train)\n",
        "x_train = x_train/255\n",
        "y_train = np_utils.to_categorical(y_train)"
      ]
    },
    {
      "cell_type": "code",
      "execution_count": null,
      "metadata": {
        "id": "5OmxnpHPqhTh",
        "colab": {
          "base_uri": "https://localhost:8080/"
        },
        "outputId": "b746f0c5-423e-443f-9858-2c38f51f7099"
      },
      "outputs": [
        {
          "output_type": "execute_result",
          "data": {
            "text/plain": [
              "4187"
            ]
          },
          "metadata": {},
          "execution_count": 8
        }
      ],
      "source": [
        "len(x_train)"
      ]
    },
    {
      "cell_type": "code",
      "execution_count": null,
      "metadata": {
        "id": "QdsAXsqeqsAF",
        "colab": {
          "base_uri": "https://localhost:8080/"
        },
        "outputId": "0282b3f8-41e1-48df-bb3e-ae2a78edf813"
      },
      "outputs": [
        {
          "output_type": "execute_result",
          "data": {
            "text/plain": [
              "4187"
            ]
          },
          "metadata": {},
          "execution_count": 9
        }
      ],
      "source": [
        "len(y_train)"
      ]
    },
    {
      "cell_type": "code",
      "execution_count": null,
      "metadata": {
        "id": "6cuiPhFpqs-v",
        "colab": {
          "base_uri": "https://localhost:8080/"
        },
        "outputId": "a65fa5bc-0c6a-4b9b-ea45-5aa0e1e1be2e"
      },
      "outputs": [
        {
          "output_type": "execute_result",
          "data": {
            "text/plain": [
              "29"
            ]
          },
          "metadata": {},
          "execution_count": 10
        }
      ],
      "source": [
        "len(y_train[0])"
      ]
    },
    {
      "cell_type": "markdown",
      "metadata": {
        "id": "8jqQ1-ZXJ0MP"
      },
      "source": [
        "# 製作測試照片"
      ]
    },
    {
      "cell_type": "code",
      "execution_count": null,
      "metadata": {
        "id": "eobhGf4EJ0MV"
      },
      "outputs": [],
      "source": [
        "def resizetestFile(dir_path, img_files):\n",
        "    size = (250,250)\n",
        "    for item in img_files:\n",
        "        item = os.path.join(dir_path,item)\n",
        "\n",
        "        images = cv2.imread(item)\n",
        "        h,w = images.shape[:2]  #第三個值是通道 例如 1024*720彩色圖就是(720,1024,3)\n",
        "        if h > size[0] or w > size[1]:\n",
        "            ratio = max(h/size[0], w/size[1])\n",
        "            images = cv2.resize(images,(int(w/ratio), int(h/ratio)))\n",
        "        h,w = images.shape[0:2]\n",
        "        pad_h = size[0] - h\n",
        "        pad_w = size[1] - w\n",
        "        top, bottom = pad_h // 2, pad_h - (pad_h//2)\n",
        "        left, right = pad_w // 2, pad_w - (pad_w//2)\n",
        "        images = cv2.copyMakeBorder(images, top, bottom, left, right, cv2.BORDER_CONSTANT, value=[0,0,0]) #適用於圖片縮小時 填充黑邊\n",
        "        name = item.split('/')[-1]\n",
        "\n",
        "        cv2.imwrite(f\"{dir_path}/resize/{name}\", images)"
      ]
    },
    {
      "cell_type": "code",
      "execution_count": null,
      "metadata": {
        "id": "cR-Xq9CPJ0MV"
      },
      "outputs": [],
      "source": [
        "x_test = list()\n",
        "y_test = list()\n",
        "def create_test_data(path, category):\n",
        "    for p in os.listdir(path):\n",
        "        img_array = cv2.imread(os.path.join(path,p),1)  #0轉灰階\n",
        "        x_test.append(img_array)\n",
        "        y_test.append(category)"
      ]
    },
    {
      "cell_type": "code",
      "execution_count": null,
      "metadata": {
        "id": "GwEJ5V2_J0MV"
      },
      "outputs": [],
      "source": [
        "category = 0\n",
        "testpath = '/content/drive/MyDrive/Code/Machine Learning/LCC_photo/水果30分類/test'\n",
        "for directory in directories:\n",
        "    dir_path = os.path.join(testpath, directory)  #.../test/哈密瓜 .../test/水蜜桃\n",
        "    dir_file = os.listdir(dir_path) #目錄內所有檔案\n",
        "    img_files = list()\n",
        "    for file in dir_file:\n",
        "        if file.endswith('.jpg') or file.endswith('.png') or file.endswith('.jpeg'):\n",
        "            img_files.append(file)\n",
        "    resizeDir = os.path.join(dir_path, 'resize')\n",
        "    if not os.path.exists(resizeDir):\n",
        "        os.makedirs(resizeDir)\n",
        "        resizetestFile(dir_path, img_files)\n",
        "    create_test_data(resizeDir, category)\n",
        "    category += 1"
      ]
    },
    {
      "cell_type": "code",
      "execution_count": null,
      "metadata": {
        "id": "J4_wSXEwJ0MV"
      },
      "outputs": [],
      "source": [
        "x_test = np.array(x_test).reshape(-1,250,250,3)\n",
        "y_test = np.array(y_test)\n",
        "x_test = x_test/255\n",
        "y_test = np_utils.to_categorical(y_test)"
      ]
    },
    {
      "cell_type": "code",
      "execution_count": null,
      "metadata": {
        "id": "SoHSPoM0J0MV",
        "colab": {
          "base_uri": "https://localhost:8080/"
        },
        "outputId": "e7499cf8-bb2b-43de-bace-73f428cc174d"
      },
      "outputs": [
        {
          "output_type": "execute_result",
          "data": {
            "text/plain": [
              "1030"
            ]
          },
          "metadata": {},
          "execution_count": 15
        }
      ],
      "source": [
        "len(x_test)"
      ]
    },
    {
      "cell_type": "code",
      "execution_count": null,
      "metadata": {
        "id": "-ojPzbMsJ0MV",
        "colab": {
          "base_uri": "https://localhost:8080/"
        },
        "outputId": "44527d52-ce41-4c6e-9d01-a04c56ca3469"
      },
      "outputs": [
        {
          "output_type": "execute_result",
          "data": {
            "text/plain": [
              "1030"
            ]
          },
          "metadata": {},
          "execution_count": 16
        }
      ],
      "source": [
        "len(y_test)"
      ]
    },
    {
      "cell_type": "code",
      "execution_count": null,
      "metadata": {
        "id": "DIC6mLPoJ0MW",
        "colab": {
          "base_uri": "https://localhost:8080/"
        },
        "outputId": "c8189916-5a4a-4c91-f24e-5a2ce2669e11"
      },
      "outputs": [
        {
          "output_type": "execute_result",
          "data": {
            "text/plain": [
              "29"
            ]
          },
          "metadata": {},
          "execution_count": 17
        }
      ],
      "source": [
        "len(y_test[1])"
      ]
    },
    {
      "cell_type": "code",
      "source": [
        "import gc\n",
        "\n",
        "\n",
        "\n",
        "\n",
        "gc.collect()"
      ],
      "metadata": {
        "colab": {
          "base_uri": "https://localhost:8080/"
        },
        "id": "sMiX4l00YAo0",
        "outputId": "d7195b0d-3269-442a-8a24-9d42d1e7d9bf"
      },
      "execution_count": null,
      "outputs": [
        {
          "output_type": "execute_result",
          "data": {
            "text/plain": [
              "0"
            ]
          },
          "metadata": {},
          "execution_count": 18
        }
      ]
    },
    {
      "cell_type": "markdown",
      "metadata": {
        "id": "41EO-vp6umfS"
      },
      "source": [
        "# 建模"
      ]
    },
    {
      "cell_type": "code",
      "execution_count": null,
      "metadata": {
        "id": "YLXHCstwsb0C"
      },
      "outputs": [],
      "source": [
        "model = Sequential()\n",
        "model.add(Conv2D(filters=32, kernel_size=(3,3), padding='same', input_shape = x_train.shape[1:], activation='relu'))\n",
        "model.add(MaxPooling2D(pool_size=(2,2)))\n",
        "model.add(Conv2D(filters=64, kernel_size=(3,3), padding='same', activation='relu'))\n",
        "model.add(MaxPooling2D(pool_size=(2,2)))\n",
        "model.add(Conv2D(filters=128, kernel_size=(3,3), padding='same', activation='relu'))\n",
        "model.add(MaxPooling2D(pool_size=(2,2)))\n",
        "model.add(Conv2D(filters=256, kernel_size=(3,3), padding='same', activation='relu'))\n",
        "model.add(MaxPooling2D(pool_size=(2,2)))\n",
        "model.add(Dropout(0.5))\n",
        "model.add(Conv2D(filters=512, kernel_size=(3,3), padding='same', activation='relu'))\n",
        "model.add(MaxPooling2D(pool_size=(2,2)))\n",
        "model.add(Dropout(0.5))\n",
        "model.add(Flatten())\n",
        "model.add(Dropout(0.5))\n",
        "model.add(Dense(1024, activation='relu'))\n",
        "model.add(Dense(29,activation='softmax'))"
      ]
    },
    {
      "cell_type": "code",
      "execution_count": null,
      "metadata": {
        "id": "dkylzlXRulUs"
      },
      "outputs": [],
      "source": [
        "model.compile(optimizer='adam', loss='categorical_crossentropy', metrics=['accuracy'])"
      ]
    },
    {
      "cell_type": "code",
      "execution_count": null,
      "metadata": {
        "id": "5QXB_jxFu9HK"
      },
      "outputs": [],
      "source": [
        "from sklearn.model_selection import train_test_split\n",
        "rX_train, rX_test, ry_train, ry_test = train_test_split(x_train, y_train, test_size=1, random_state=1)"
      ]
    },
    {
      "cell_type": "code",
      "execution_count": null,
      "metadata": {
        "id": "FIR-RKizoUSu"
      },
      "outputs": [],
      "source": [
        "model.fit(rX_train, ry_train, epochs=40, batch_size=8)"
      ]
    },
    {
      "cell_type": "code",
      "execution_count": null,
      "metadata": {
        "id": "DVfKWyulArQu"
      },
      "outputs": [],
      "source": [
        "#model.save('29kind.h5')"
      ]
    },
    {
      "cell_type": "code",
      "execution_count": null,
      "metadata": {
        "id": "PaAFPXeK2aw6"
      },
      "outputs": [],
      "source": [
        "score = model.evaluate(x_test, y_test)"
      ]
    },
    {
      "cell_type": "code",
      "execution_count": null,
      "metadata": {
        "id": "izJW9ggrqMR0"
      },
      "outputs": [],
      "source": [
        "# import gc\n",
        "# from keras import backend as K\n",
        "# del model\n",
        "\n",
        "# K.clear_session()\n",
        "# gc.collect()"
      ]
    },
    {
      "cell_type": "code",
      "execution_count": null,
      "metadata": {
        "id": "ZQ9fv7r20zYB"
      },
      "outputs": [],
      "source": [
        "#載入\n",
        "#import tensorflow\n",
        "#md = tensorflow.keras.models.load_model('29kind_e30_bs128.h5')"
      ]
    }
  ],
  "metadata": {
    "accelerator": "GPU",
    "colab": {
      "gpuType": "T4",
      "provenance": []
    },
    "kernelspec": {
      "display_name": "Python 3",
      "name": "python3"
    },
    "language_info": {
      "name": "python"
    }
  },
  "nbformat": 4,
  "nbformat_minor": 0
}